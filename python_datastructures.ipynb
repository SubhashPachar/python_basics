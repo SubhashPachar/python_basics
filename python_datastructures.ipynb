{
  "nbformat": 4,
  "nbformat_minor": 0,
  "metadata": {
    "colab": {
      "provenance": []
    },
    "kernelspec": {
      "name": "python3",
      "display_name": "Python 3"
    },
    "language_info": {
      "name": "python"
    }
  },
  "cells": [
    {
      "cell_type": "markdown",
      "source": [
        "# Data Types and Structures"
      ],
      "metadata": {
        "id": "MldvKA2JyV-v"
      }
    },
    {
      "cell_type": "markdown",
      "source": [
        "**Theoritical Questions**"
      ],
      "metadata": {
        "id": "Rc1ILD43ylIw"
      }
    },
    {
      "cell_type": "markdown",
      "source": [
        "1. What are data structures, and why are they important?\n",
        "- Data Structure is a way of organing and storing data. So that data can be accessed and manipulated effectively. Data structures are the backbone of efficient programming. They decide how quickly and effectively you can solve a problem."
      ],
      "metadata": {
        "id": "o5LFUuZLzGY0"
      }
    },
    {
      "cell_type": "markdown",
      "source": [
        "2.  Explain the difference between mutable and immutable data types with examples.\n",
        "- Mutable Data Type - Objects whose values can be changed after creation. For example - List, Dictionary, Set.\n",
        "- Immutable Data Types - Objects whose values can not be changed after creation. For example - String, Int, Float, Tuple etc."
      ],
      "metadata": {
        "id": "YFGu-WsB54zK"
      }
    },
    {
      "cell_type": "markdown",
      "source": [
        "3. What are the main differences between lists and tuples in Python?\n",
        "- List is a mutable object but Tuple is a immutable object.\n",
        "- Lists have many in built methods: append, remove, sort but Tuples have limited methods: index, count.\n",
        "- Lists are generally slower than tuples.\n",
        "- Tuples take less momory than lists with the same elements.\n",
        "- Lists used for dynamic collection but tuples used for fixed collection."
      ],
      "metadata": {
        "id": "_gUjyXdY7ZDM"
      }
    },
    {
      "cell_type": "markdown",
      "source": [
        "4. Describe how dictionaries store data.\n",
        "- Dictionary is a data structure that stores data as key-value pairs. Keys must be immutable and unique. Values can be any type. We can access value using key."
      ],
      "metadata": {
        "id": "_x25sWisJkup"
      }
    },
    {
      "cell_type": "markdown",
      "source": [
        "5. Why might you use a set instead of a list in Python?\n",
        "- Set stores only unique elements and autometically removes duplicates.Sets support mathematical operations that lists do not have, like: Union(|), Intersection(&), Difference(-), Symmetric difference(^).Sets are faster in membership checking than lists. Use a set when you need unique items, fast lookups, or set operations."
      ],
      "metadata": {
        "id": "hsF14hMXK0Ce"
      }
    },
    {
      "cell_type": "markdown",
      "source": [
        "6. What is a string in Python, and how is it different from a list?\n",
        "- A String in Python is a sequence of characters enclosed in either in single quotes or double quotes.\n",
        "- A list is an ordered collection of elements.\n",
        "- String is immutable but list is mutable.\n",
        "- strings are used to represent textual data and Lists are used for storing a collection of items."
      ],
      "metadata": {
        "id": "E0cXoWzMPrMm"
      }
    },
    {
      "cell_type": "markdown",
      "source": [
        "7. How do tuples ensure data integrity in Python?\n",
        "- A tuple is a collection of ordered, unchangeable, and heterogeneous data. Tuples ensure data integrity in Python because they are immutable, meaning their contents cannot be changed after creation. This property prevents accidental modification. This means that once a tuple is created, its elements cannot be changed, added, or removed."
      ],
      "metadata": {
        "id": "-c3yGNIaci0j"
      }
    },
    {
      "cell_type": "markdown",
      "source": [
        "8. What is a hash table, and how does it relate to dictionaries in Python?\n",
        "- A hash table is a data structure that stores key-value pairs using a hash function. This allows for very fast data access, insertion, and deletion.\n",
        "- In Python dictionaries uses a hash function to convert each key into a unique hash value.  This hash value is then used to find the  index where the value is stored.\n",
        "- Dictionaries and Hash tables require unique keys. If we try to add a duplicate key to a dictionary, it will simply overwrite the old value this is a use of hash table in a dictionary.\n",
        "-  Only immutable objects can be used as dictionary keys. This is because a key's hash value must remain constant throughout its lifetime.\n",
        "\n",
        "\n"
      ],
      "metadata": {
        "id": "TBqtl2l_dJCV"
      }
    },
    {
      "cell_type": "markdown",
      "source": [
        "9. Can lists contain different data types in Python?\n",
        " - Yes, lists can contain different data types in Python. A single Python list can hold integers, strings, floats, booleans, and even other lists or tuples."
      ],
      "metadata": {
        "id": "xfxr81_WffCy"
      }
    },
    {
      "cell_type": "markdown",
      "source": [
        "10. Explain why strings are immutable in Python.\n",
        "- Strings in Python are immutable because:\n",
        "- They are used as dictionary keys and need a stable hash value.\n",
        "- Interning and memory optimizations rely on immutability.\n",
        "- It prevents accidental changes to text data."
      ],
      "metadata": {
        "id": "2tiVFysef9FG"
      }
    },
    {
      "cell_type": "markdown",
      "source": [
        "11. What advantages do dictionaries offer over lists for certain tasks?\n",
        "- Dictionaries offer significant advantages over lists for tasks that involve associating data with unique identifiers and require fast lookups, insertions, and deletions.\n",
        "- Lists store a collection of values based on a numerical index, dictionaries store data as key-value pairs .This structure allows you to organize data semantically, using descriptive keys to access its corresponding value."
      ],
      "metadata": {
        "id": "En2VSOBXg2C6"
      }
    },
    {
      "cell_type": "markdown",
      "source": [
        "12. Describe a scenario where using a tuple would be preferable over a list.\n",
        "- A tuple would be preferable over a list in a scenario where you have a collection of items that should not be modified after they are created.\n",
        "- Memory Efficiency - Tuples take less momory than lists with the same elements.\n",
        "- A tuple would be preferable over a list where you need fast iteration.\n"
      ],
      "metadata": {
        "id": "PYTO3bmjaXh1"
      }
    },
    {
      "cell_type": "markdown",
      "source": [
        "13. How do sets handle duplicate values in Python?\n",
        "- Sets in Python automatically handle duplicate values by only storing one instance of each unique element.\n",
        "- When we create a set, any duplicates you try to add will be silently discarded, ensuring that every element in the set is unique.\n",
        "- Sets are implemented using a hash table. This hash table ensures that each element's hash value is unique, preventing duplicates from being stored."
      ],
      "metadata": {
        "id": "b71LuQ2Wc7QZ"
      }
    },
    {
      "cell_type": "markdown",
      "source": [
        "14. How does the “in” keyword work differently for lists and dictionaries?\n",
        "- For lists, \"in\" checks for membership by performing a linear search. It iterates through each element of the list from the beginning until it finds a match or reaches the end.\n",
        "- For dictionaries, \"in\" checks for the existence of a key, not a value. It leverages the dictionary's underlying hash table implementation. When we use \"in\" on a dictionary, Python calculates a hash value for the key we are searching for and uses it to jump directly to a potential location in memory."
      ],
      "metadata": {
        "id": "8CR4C5vLiviN"
      }
    },
    {
      "cell_type": "markdown",
      "source": [
        "15. Can you modify the elements of a tuple? Explain why or why not.\n",
        "- No, we can't modify the elements of a tuple. Tuples are immutable, which means their content cannot be changed, added to, or removed after creation.\n",
        "- The immutability of tuples is a core design feature of Python. When we create a tuple, the interpreter allocates a fixed amount of memory to store its elements. This memory block is then \"locked,\" preventing any changes."
      ],
      "metadata": {
        "id": "0CACDqYOjhy5"
      }
    },
    {
      "cell_type": "markdown",
      "source": [
        "16. What is a nested dictionary, and give an example of its use case?\n",
        "- A nested dictionary is a dictionary where the value for a key is another dictionary. This allows to create a hierarchical data structure to store information that has multiple levels.\n",
        "- Example - Student records - where we can store name, roll no in main dictionary and marks in nested dictionary using subjects as key.\n",
        "- student_records = {\"name\" : \"Subhash\" , \"roll no\" : 1234, \"marks\" : {\"physics\" : 80, \"math\" : 95, \"chemistry\" : 82}}"
      ],
      "metadata": {
        "id": "_L1VGgMnkJra"
      }
    },
    {
      "cell_type": "markdown",
      "source": [
        "17. Describe the time complexity of accessing elements in a dictionary.\n",
        "- In Python, dictionaries are implemented using hash tables, which makes element access very efficient.Accessing an element by its key takes O(1) time.\n",
        "- While the average case is O(1), the worst-case time complexity is O(n), where 'n' is the number of elements in the dictionary. This can occur in a scenario called a hash collision. A hash collision happens when the hash function generates the same hash value for two different keys."
      ],
      "metadata": {
        "id": "Xyg9lCIrl7i0"
      }
    },
    {
      "cell_type": "markdown",
      "source": [
        "18. In what situations are lists preferred over dictionaries?\n",
        "- Lists maintain the insertion order of elements by default. If we need to preserve sequence lists are better than dictionaries.\n",
        "- If data is a simple collection of items without any unique identifiers or labels, a list is the most straightforward and memory-efficient data structure.\n",
        "- Lists can store duplicate elements. Dictionaries require unique keys, so if duplicates matter lists are better.\n",
        "-"
      ],
      "metadata": {
        "id": "zLjtjrDj-xUy"
      }
    },
    {
      "cell_type": "markdown",
      "source": [
        "19. Why are dictionaries considered unordered, and how does that affect data retrieval?\n",
        "- Dictionaries in Python were considered unordered collections because dictionaries are implemented using hash tables, where the storage location of each key–value pair depends on the hash value of the key, not the order of insertion. This means we can’t access elements by index like in a list.\n",
        "- In modern Python (after Python 3.7), dictionaries do preserve insertion order, but order has no role in retrieval speed."
      ],
      "metadata": {
        "id": "7uYa-tExBWMt"
      }
    },
    {
      "cell_type": "markdown",
      "source": [
        "20. Explain the difference between a list and a dictionary in terms of data retrieval.\n",
        "- A list is an ordered collection of elements. Data retrieval is done by using a numeric index, which represents the element's position in the list, starting from 0. To find an element with a specific value, we have to iterate through the list from the beginning until you find it.\n",
        "- A dictionary is an unordered collection of data stored as key-value pairs. Data retrieval is done by using a unique, immutable key to look up its associated value. When we want a value we use correspondence key of that value."
      ],
      "metadata": {
        "id": "nBaKjKmBCxWQ"
      }
    },
    {
      "cell_type": "markdown",
      "source": [
        "**Practical Questions**"
      ],
      "metadata": {
        "id": "3BQXxZjcWYSN"
      }
    },
    {
      "cell_type": "code",
      "source": [
        "# 1. Write a code to create a string with your name and print it.\n",
        "name = \"Subhash\"\n",
        "print(name)"
      ],
      "metadata": {
        "colab": {
          "base_uri": "https://localhost:8080/"
        },
        "id": "EiKUEFDKWngq",
        "outputId": "371218e6-4802-4d3d-9f1e-ebd4333d4cea"
      },
      "execution_count": null,
      "outputs": [
        {
          "output_type": "stream",
          "name": "stdout",
          "text": [
            "Subhash\n"
          ]
        }
      ]
    },
    {
      "cell_type": "code",
      "source": [
        "# 2. Write a code to find the length of the string \"Hello World\".\n",
        "string = \"Hello World\"\n",
        "length = len(string)\n",
        "print(length)"
      ],
      "metadata": {
        "colab": {
          "base_uri": "https://localhost:8080/"
        },
        "id": "RGG8M2mCW7MF",
        "outputId": "ce9b1ce8-0248-4a90-a5ba-5f52f620bb10"
      },
      "execution_count": null,
      "outputs": [
        {
          "output_type": "stream",
          "name": "stdout",
          "text": [
            "11\n"
          ]
        }
      ]
    },
    {
      "cell_type": "code",
      "source": [
        "# 3. Write a code to slice the first 3 characters from the string \"Python Programming\".\n",
        "string3 = \"Python Programming\"\n",
        "first3 = string3[0:3]\n",
        "print(\"First three characters : \", first3)"
      ],
      "metadata": {
        "colab": {
          "base_uri": "https://localhost:8080/"
        },
        "id": "O06ygN3dXWTd",
        "outputId": "2ed5ad5c-dc51-4423-cac2-a379eccb4e9f"
      },
      "execution_count": null,
      "outputs": [
        {
          "output_type": "stream",
          "name": "stdout",
          "text": [
            "First three characters :  Pyt\n"
          ]
        }
      ]
    },
    {
      "cell_type": "code",
      "source": [
        "# 4. Write a code to convert the string \"hello\" to uppercase.\n",
        "string4 = \"hello\"\n",
        "in_uppercase = string4.upper()\n",
        "print(in_uppercase)"
      ],
      "metadata": {
        "colab": {
          "base_uri": "https://localhost:8080/"
        },
        "id": "kgEoakkgYqpH",
        "outputId": "e97d0d98-de3c-4de2-827a-f54f2876c1ee"
      },
      "execution_count": null,
      "outputs": [
        {
          "output_type": "stream",
          "name": "stdout",
          "text": [
            "HELLO\n"
          ]
        }
      ]
    },
    {
      "cell_type": "code",
      "source": [
        "# 5. Write a code to replace the word \"apple\" with \"orange\" in the string \"I like apple\".\n",
        "string5 = \"I like apple\"\n",
        "s = string5.replace(\"apple\",\"orange\")\n",
        "print(s)"
      ],
      "metadata": {
        "colab": {
          "base_uri": "https://localhost:8080/"
        },
        "id": "T1YreuhQZEBB",
        "outputId": "77f63431-20b2-470d-fcdf-b27912dc887f"
      },
      "execution_count": null,
      "outputs": [
        {
          "output_type": "stream",
          "name": "stdout",
          "text": [
            "I like orange\n"
          ]
        }
      ]
    },
    {
      "cell_type": "code",
      "source": [
        "# 6. Write a code to create a list with numbers 1 to 5 and print it.\n",
        "list6 = [i for i in range(1,6) ]\n",
        "print(list6)"
      ],
      "metadata": {
        "colab": {
          "base_uri": "https://localhost:8080/"
        },
        "id": "uuZGR2QMaRmK",
        "outputId": "defbf735-5f47-450d-f6fc-18b0961a4cf5"
      },
      "execution_count": null,
      "outputs": [
        {
          "output_type": "stream",
          "name": "stdout",
          "text": [
            "[1, 2, 3, 4, 5]\n"
          ]
        }
      ]
    },
    {
      "cell_type": "code",
      "source": [
        "# 7. Write a code to append the number 10 to the list [1, 2, 3, 4].\n",
        "list7 = [1, 2, 3, 4]\n",
        "list7.append(10)\n",
        "print(list7)"
      ],
      "metadata": {
        "colab": {
          "base_uri": "https://localhost:8080/"
        },
        "id": "_k8IrjPIasUj",
        "outputId": "91a8821b-8e74-45e0-b72c-27bbf5742eaf"
      },
      "execution_count": null,
      "outputs": [
        {
          "output_type": "stream",
          "name": "stdout",
          "text": [
            "[1, 2, 3, 4, 10]\n"
          ]
        }
      ]
    },
    {
      "cell_type": "code",
      "source": [
        "# 8. Write a code to remove the number 3 from the list [1, 2, 3, 4, 5].\n",
        "list8 = [1, 2, 3, 4, 5]\n",
        "list8.remove(3)\n",
        "print(list8)"
      ],
      "metadata": {
        "colab": {
          "base_uri": "https://localhost:8080/"
        },
        "id": "vHnzO33AbHl4",
        "outputId": "30edfbd9-02e8-47da-d426-904dc115a7b5"
      },
      "execution_count": null,
      "outputs": [
        {
          "output_type": "stream",
          "name": "stdout",
          "text": [
            "[1, 2, 4, 5]\n"
          ]
        }
      ]
    },
    {
      "cell_type": "code",
      "source": [
        "# 9. Write a code to access the second element in the list ['a', 'b', 'c', 'd'].\n",
        "list9 = ['a', 'b', 'c', 'd']\n",
        "second_element = list9[1]\n",
        "print(second_element)"
      ],
      "metadata": {
        "colab": {
          "base_uri": "https://localhost:8080/"
        },
        "id": "NkA-Gdnybbqd",
        "outputId": "ceaa8ce7-c13c-4b82-9ccf-a461e1f7541f"
      },
      "execution_count": null,
      "outputs": [
        {
          "output_type": "stream",
          "name": "stdout",
          "text": [
            "b\n"
          ]
        }
      ]
    },
    {
      "cell_type": "code",
      "source": [
        "# 10. Write a code to reverse the list [10, 20, 30, 40, 50].\n",
        "list10 = [10, 20, 30, 40, 50]\n",
        "res_list = []\n",
        "for i in range(1, (len(list10)+1) ):\n",
        "  res_list.append(list10[-i])\n",
        "print(res_list)"
      ],
      "metadata": {
        "colab": {
          "base_uri": "https://localhost:8080/"
        },
        "id": "tX-5qEiQb0Pp",
        "outputId": "d0a1d00a-60f3-4402-dcc2-51a9c52cfb5b"
      },
      "execution_count": null,
      "outputs": [
        {
          "output_type": "stream",
          "name": "stdout",
          "text": [
            "[50, 40, 30, 20, 10]\n"
          ]
        }
      ]
    },
    {
      "cell_type": "code",
      "source": [
        "# 11. Write a code to create a tuple with the elements 100, 200, 300 and print it.\n",
        "tup11 = (100, 200, 300)\n",
        "print(tup11)"
      ],
      "metadata": {
        "colab": {
          "base_uri": "https://localhost:8080/"
        },
        "id": "ugCHEkEqdj0s",
        "outputId": "e908e8fe-b03e-40e2-9e6c-f3c907ed35c5"
      },
      "execution_count": null,
      "outputs": [
        {
          "output_type": "stream",
          "name": "stdout",
          "text": [
            "(100, 200, 300)\n"
          ]
        }
      ]
    },
    {
      "cell_type": "code",
      "source": [
        "# 12. Write a code to access the second-to-last element of the tuple ('red', 'green', 'blue', 'yellow').\n",
        "colors = ('red', 'green', 'blue', 'yellow')\n",
        "second_last = colors[-2]\n",
        "print(second_last)"
      ],
      "metadata": {
        "colab": {
          "base_uri": "https://localhost:8080/"
        },
        "id": "AdsvlSoje1dC",
        "outputId": "13b136b4-357b-4539-e16b-8ddff6bc9819"
      },
      "execution_count": null,
      "outputs": [
        {
          "output_type": "stream",
          "name": "stdout",
          "text": [
            "blue\n"
          ]
        }
      ]
    },
    {
      "cell_type": "code",
      "source": [
        "# 13. Write a code to find the minimum number in the tuple (10, 20, 5, 15).\n",
        "tup13 = (10, 20, 5, 15)\n",
        "mini = min(tup13)\n",
        "print(mini)"
      ],
      "metadata": {
        "colab": {
          "base_uri": "https://localhost:8080/"
        },
        "id": "THavBmA3fJZS",
        "outputId": "065d843e-1e3d-4033-90fe-f41935427cbb"
      },
      "execution_count": null,
      "outputs": [
        {
          "output_type": "stream",
          "name": "stdout",
          "text": [
            "5\n"
          ]
        }
      ]
    },
    {
      "cell_type": "code",
      "source": [
        "# 14. Write a code to find the index of the element \"cat\" in the tuple ('dog', 'cat', 'rabbit').\n",
        "tuple14 = ('dog', 'cat', 'rabbit')\n",
        "index_of_cat = tuple14.index(\"cat\")\n",
        "print(index_of_cat)\n"
      ],
      "metadata": {
        "colab": {
          "base_uri": "https://localhost:8080/"
        },
        "id": "ZwZYbCX-flxB",
        "outputId": "f49de868-76f1-4635-c0c0-9733f85f328c"
      },
      "execution_count": null,
      "outputs": [
        {
          "output_type": "stream",
          "name": "stdout",
          "text": [
            "1\n"
          ]
        }
      ]
    },
    {
      "cell_type": "code",
      "source": [
        "# 15. Write a code to create a tuple containing three different fruits and check if \"kiwi\" is in it.\n",
        "fruits = (\"mango\", \"kiwi\", \"apple\")\n",
        "is_kiwi = (\"kiwi\" in fruits)\n",
        "print(is_kiwi)"
      ],
      "metadata": {
        "colab": {
          "base_uri": "https://localhost:8080/"
        },
        "id": "nUwNUFURgZn4",
        "outputId": "630ab745-6d24-4d65-f921-c7486dd47d69"
      },
      "execution_count": null,
      "outputs": [
        {
          "output_type": "stream",
          "name": "stdout",
          "text": [
            "True\n"
          ]
        }
      ]
    },
    {
      "cell_type": "code",
      "source": [
        "# 16. Write a code to create a set with the elements 'a', 'b', 'c' and print it.\n",
        "set_a = {\"a\", \"b\", \"c\"}\n",
        "print(set_a)"
      ],
      "metadata": {
        "colab": {
          "base_uri": "https://localhost:8080/"
        },
        "id": "3y7PSNvBhYYi",
        "outputId": "d8a2164f-c3ef-4bfe-ec41-8fa53e8010cb"
      },
      "execution_count": null,
      "outputs": [
        {
          "output_type": "stream",
          "name": "stdout",
          "text": [
            "{'a', 'b', 'c'}\n"
          ]
        }
      ]
    },
    {
      "cell_type": "code",
      "source": [
        "# 17. Write a code to clear all elements from the set {1, 2, 3, 4, 5}.\n",
        "set1 = {1, 2, 3, 4, 5}\n",
        "set1.clear()\n",
        "print(set1)"
      ],
      "metadata": {
        "colab": {
          "base_uri": "https://localhost:8080/"
        },
        "id": "kn8x3_xnh2rc",
        "outputId": "40c61b6a-94da-4177-972d-633d1fd032ee"
      },
      "execution_count": null,
      "outputs": [
        {
          "output_type": "stream",
          "name": "stdout",
          "text": [
            "set()\n"
          ]
        }
      ]
    },
    {
      "cell_type": "code",
      "source": [
        "# 18. Write a code to remove the element 4 from the set {1, 2, 3, 4}.\n",
        "set18 = {1, 2, 3, 4}\n",
        "set18.remove(4)\n",
        "print(set18)"
      ],
      "metadata": {
        "colab": {
          "base_uri": "https://localhost:8080/"
        },
        "id": "OctL11-DiTpF",
        "outputId": "994ef942-1db0-4235-ba81-06b3f072348e"
      },
      "execution_count": null,
      "outputs": [
        {
          "output_type": "stream",
          "name": "stdout",
          "text": [
            "{1, 2, 3}\n"
          ]
        }
      ]
    },
    {
      "cell_type": "code",
      "source": [
        "# 19. Write a code to find the union of two sets {1, 2, 3} and {3, 4, 5}.\n",
        "set1 = {1, 2, 3}\n",
        "set2 = {3, 4, 5}\n",
        "unified_set = (set1 | set2)\n",
        "print(unified_set)"
      ],
      "metadata": {
        "colab": {
          "base_uri": "https://localhost:8080/"
        },
        "id": "_iI85IAHi9X2",
        "outputId": "a0dd9e01-f901-4631-a6ee-4561aec0b158"
      },
      "execution_count": null,
      "outputs": [
        {
          "output_type": "stream",
          "name": "stdout",
          "text": [
            "{1, 2, 3, 4, 5}\n"
          ]
        }
      ]
    },
    {
      "cell_type": "code",
      "source": [
        "# 20. Write a code to find the intersection of two sets {1, 2, 3} and {2, 3, 4}.\n",
        "set1 = {1, 2, 3}\n",
        "set2 = {2, 3, 4}\n",
        "intersection_set = (set1 & set2)\n",
        "print(intersection_set)"
      ],
      "metadata": {
        "colab": {
          "base_uri": "https://localhost:8080/"
        },
        "id": "PDzlU4FFjtei",
        "outputId": "c8474b80-8fac-49bc-ada7-0d07c19f6b83"
      },
      "execution_count": null,
      "outputs": [
        {
          "output_type": "stream",
          "name": "stdout",
          "text": [
            "{2, 3}\n"
          ]
        }
      ]
    },
    {
      "cell_type": "code",
      "source": [
        "# 21. Write a code to create a dictionary with the keys \"name\", \"age\", and \"city\", and print it.\n",
        "dictionary = {\"name\" : \"Subhash\", \"age\" : 20, \"city\" : \"Jodhpur\"}\n",
        "print(dictionary)"
      ],
      "metadata": {
        "id": "1FnrrYHakJVj",
        "colab": {
          "base_uri": "https://localhost:8080/"
        },
        "outputId": "9caee41c-02a6-41d2-b869-0ae13a1ac268"
      },
      "execution_count": 1,
      "outputs": [
        {
          "output_type": "stream",
          "name": "stdout",
          "text": [
            "{'name': 'Subhash', 'age': 20, 'city': 'Jodhpur'}\n"
          ]
        }
      ]
    },
    {
      "cell_type": "code",
      "source": [
        "# 22. Write a code to add a new key-value pair \"country\": \"USA\" to the dictionary {'name': 'John', 'age': 25}.\n",
        "dictionary1 = {'name': 'John', 'age': 25}\n",
        "dictionary1[\"country\"] = \"USA\"\n",
        "print(dictionary1)"
      ],
      "metadata": {
        "colab": {
          "base_uri": "https://localhost:8080/"
        },
        "id": "mkyTkTVygdlH",
        "outputId": "809d5446-b41e-4812-9029-2dfe8c4ccf91"
      },
      "execution_count": 2,
      "outputs": [
        {
          "output_type": "stream",
          "name": "stdout",
          "text": [
            "{'name': 'John', 'age': 25, 'country': 'USA'}\n"
          ]
        }
      ]
    },
    {
      "cell_type": "code",
      "source": [
        "# 23. Write a code to access the value associated with the key \"name\" in the dictionary {'name': 'Alice', 'age': 30}.\n",
        "dictionary2 = {'name': 'Alice', 'age': 30}\n",
        "value_of_name = dictionary2[\"name\"]\n",
        "print(value_of_name)"
      ],
      "metadata": {
        "colab": {
          "base_uri": "https://localhost:8080/"
        },
        "id": "mKFP-zo9g5Eb",
        "outputId": "1481c50d-5e58-41fa-d380-1dc5ad0d3394"
      },
      "execution_count": 4,
      "outputs": [
        {
          "output_type": "stream",
          "name": "stdout",
          "text": [
            "Alice\n"
          ]
        }
      ]
    },
    {
      "cell_type": "code",
      "source": [
        "# 24. Write a code to remove the key \"age\" from the dictionary {'name': 'Bob', 'age': 22, 'city': 'New York'}.\n",
        "dictionary3 = {'name': 'Bob', 'age': 22, 'city': 'New York'}\n",
        "del dictionary3[\"age\"]\n",
        "print(dictionary3)"
      ],
      "metadata": {
        "colab": {
          "base_uri": "https://localhost:8080/"
        },
        "id": "h4e7ZmT5hS4H",
        "outputId": "40d08e66-3555-492c-e730-0bf8248353aa"
      },
      "execution_count": 5,
      "outputs": [
        {
          "output_type": "stream",
          "name": "stdout",
          "text": [
            "{'name': 'Bob', 'city': 'New York'}\n"
          ]
        }
      ]
    },
    {
      "cell_type": "code",
      "source": [
        "# 25. Write a code to check if the key \"city\" exists in the dictionary {'name': 'Alice', 'city': 'Paris'}.\n",
        "dictionary4 = {'name': 'Alice', 'city': 'Paris'}\n",
        "flag = False\n",
        "for key in dictionary4.keys():\n",
        "  if key == \"city\":\n",
        "    flag = True\n",
        "print(flag)\n"
      ],
      "metadata": {
        "colab": {
          "base_uri": "https://localhost:8080/"
        },
        "id": "z1DxPhLPh7GL",
        "outputId": "0f21c708-641a-47cb-9bff-d3e7abb3a477"
      },
      "execution_count": 9,
      "outputs": [
        {
          "output_type": "stream",
          "name": "stdout",
          "text": [
            "True\n"
          ]
        }
      ]
    },
    {
      "cell_type": "code",
      "source": [
        "# 26. Write a code to create a list, a tuple, and a dictionary, and print them all.\n",
        "# Create a list\n",
        "my_list = [1, 2, 'hello', 4.5]\n",
        "\n",
        "# Create a tuple\n",
        "my_tuple = (10, 'world', 20.5)\n",
        "\n",
        "# Create a dictionary\n",
        "my_dict = {'name': 'Alice', 'age': 30, 'city': 'New York'}\n",
        "\n",
        "# Print all the data structures\n",
        "print(\"List:\", my_list)\n",
        "print(\"Tuple:\", my_tuple)\n",
        "print(\"Dictionary:\", my_dict)"
      ],
      "metadata": {
        "colab": {
          "base_uri": "https://localhost:8080/"
        },
        "id": "d2hC_dsIjXPl",
        "outputId": "2d2d4d4e-0ee4-471e-8b3f-8ca22ab57728"
      },
      "execution_count": 10,
      "outputs": [
        {
          "output_type": "stream",
          "name": "stdout",
          "text": [
            "List: [1, 2, 'hello', 4.5]\n",
            "Tuple: (10, 'world', 20.5)\n",
            "Dictionary: {'name': 'Alice', 'age': 30, 'city': 'New York'}\n"
          ]
        }
      ]
    },
    {
      "cell_type": "code",
      "source": [
        "# 27. Write a code to create a list of 5 random numbers between 1 and 100, sort it in ascending order, and print the result.(replaced)\n",
        "import random\n",
        "numbers = [random.randint(1,100) for i in range(5)]\n",
        "numbers.sort()\n",
        "print(numbers)"
      ],
      "metadata": {
        "colab": {
          "base_uri": "https://localhost:8080/"
        },
        "id": "c4G4QujZj43u",
        "outputId": "0906d9f4-c240-41c2-b87b-43222236185e"
      },
      "execution_count": 12,
      "outputs": [
        {
          "output_type": "stream",
          "name": "stdout",
          "text": [
            "[2, 27, 77, 81, 92]\n"
          ]
        }
      ]
    },
    {
      "cell_type": "code",
      "source": [
        "# 28. Write a code to create a list with strings and print the element at the third index.\n",
        "lis = [\"subhash\", \"jay\", \"arun\", \"yash\", \"aadi\", \"mouse\"]\n",
        "third_indexed_element = lis[3]\n",
        "print(\"The element at third index is :\",third_indexed_element)"
      ],
      "metadata": {
        "colab": {
          "base_uri": "https://localhost:8080/"
        },
        "id": "k03X2h2Lkrfa",
        "outputId": "6d676628-6f85-44e8-ab28-093716b7cc65"
      },
      "execution_count": 14,
      "outputs": [
        {
          "output_type": "stream",
          "name": "stdout",
          "text": [
            "The element at third index is : yash\n"
          ]
        }
      ]
    },
    {
      "cell_type": "code",
      "source": [
        "# 29. Write a code to combine two dictionaries into one and print the result.\n",
        "dict1 = {\"name\" : \"subhash\", \"age\" : 20, \"city\": \"jodhpur\"}\n",
        "dict2 = {\"state\" : \"Rajasthan\", \"country\" : \"India\"}\n",
        "dict1.update(dict2)\n",
        "print(dict1)"
      ],
      "metadata": {
        "colab": {
          "base_uri": "https://localhost:8080/"
        },
        "id": "2mQYaI0ElmO5",
        "outputId": "9fdcc4ae-28a3-4c5b-8391-f803311e17a5"
      },
      "execution_count": 15,
      "outputs": [
        {
          "output_type": "stream",
          "name": "stdout",
          "text": [
            "{'name': 'subhash', 'age': 20, 'city': 'jodhpur', 'state': 'Rajasthan', 'country': 'India'}\n"
          ]
        }
      ]
    },
    {
      "cell_type": "code",
      "source": [
        "# 30. Write a code to convert a list of strings into a set.\n",
        "lis = [1, 2, \"hello\", 4, 4, True, True, False, 6, 7, 7, 0, 8]\n",
        "l_set = set(lis)\n",
        "print(l_set)\n",
        "#True and False are considered as 1 and 0. So set will take either 0 or False and either 1 or True which one is given first."
      ],
      "metadata": {
        "colab": {
          "base_uri": "https://localhost:8080/"
        },
        "id": "WFDkLGuCmsaS",
        "outputId": "25273158-aa22-453f-8774-6390bdf0f7e2"
      },
      "execution_count": 21,
      "outputs": [
        {
          "output_type": "stream",
          "name": "stdout",
          "text": [
            "{False, 1, 2, 4, 6, 7, 8, 'hello'}\n"
          ]
        }
      ]
    }
  ]
}