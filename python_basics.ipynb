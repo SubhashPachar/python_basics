{
  "nbformat": 4,
  "nbformat_minor": 0,
  "metadata": {
    "colab": {
      "provenance": []
    },
    "kernelspec": {
      "name": "python3",
      "display_name": "Python 3"
    },
    "language_info": {
      "name": "python"
    }
  },
  "cells": [
    {
      "cell_type": "markdown",
      "source": [
        "**Function**"
      ],
      "metadata": {
        "id": "bYqAmJ0PhcAQ"
      }
    },
    {
      "cell_type": "markdown",
      "source": [
        "1. Explain the key features of Python that make it a popular choice for programming.\n",
        "  - Following features make Python popular choice for programming\n",
        "  - Python is a very simple and vesatile language and easy to learn because it has clean and english-like syntax.\n",
        "  - Python has rich ecosystem of libraries like Pandas, Numpy, Matplotlib.\n",
        "  - Python has huge developer community means plenty of tutorials, forums, and open-source libraries.\n",
        "  - In summary: Python’s simplicity, flexibility, huge library support, and community are the main reasons it’s a top choice for beginners and professionals."
      ],
      "metadata": {
        "id": "sflYpojvhmc8"
      }
    },
    {
      "cell_type": "markdown",
      "source": [
        "2. Describe the role of predefined keywords in Python and provide examples of how they are used in a program.\n",
        " - Keywords in Python are reserved words that have special meaning to the Python interpreter.They define the syntax and structure of the Python language.\n",
        " - For example type is used for checking data type of a veriable.\n",
        " - if, elif, else for decision making\n",
        " - for and while for iteration\n",
        " - input for taking input fron user\n"
      ],
      "metadata": {
        "id": "vW9ya2lFkoZp"
      }
    },
    {
      "cell_type": "code",
      "source": [
        "a=10\n",
        "type(a)"
      ],
      "metadata": {
        "colab": {
          "base_uri": "https://localhost:8080/"
        },
        "id": "S5qIAkuLnNqR",
        "outputId": "73d103f3-a2b8-4cb2-d147-1bd7025f0a43"
      },
      "execution_count": null,
      "outputs": [
        {
          "output_type": "execute_result",
          "data": {
            "text/plain": [
              "int"
            ]
          },
          "metadata": {},
          "execution_count": 1
        }
      ]
    },
    {
      "cell_type": "code",
      "source": [
        "marks=85\n",
        "if marks >= 90:\n",
        "  print(\"Grade A\")\n",
        "elif 90 > marks >= 75:\n",
        "  print(\"Grade B\")\n",
        "else:\n",
        "  print(\"Grade C\")"
      ],
      "metadata": {
        "id": "r2EoHLu6nX09"
      },
      "execution_count": null,
      "outputs": []
    },
    {
      "cell_type": "markdown",
      "source": [
        "3.  Compare and contrast mutable and immutable objects in Python with examples.\n",
        "- Mutable objects - Objects whose state or value can be changed after they are created are called Mutable objects. Example - List, dictionary, set etc.\n",
        "- Immutable objects - Objects whose state or value can not be changed after they are created are called Immuteble objects.  Example - int, float, str, tuple etc.\n"
      ],
      "metadata": {
        "id": "jyAjJr6Qn960"
      }
    },
    {
      "cell_type": "markdown",
      "source": [
        "4.  Discuss the different types of operators in Python and provide examples of how they are used.\n",
        "- In Python oprators are special symbols that perform operations on variables and values.Let’s go through each type with examples:"
      ],
      "metadata": {
        "id": "IG2Zc59OKjOo"
      }
    },
    {
      "cell_type": "code",
      "source": [
        "# 1. Arithmatic Operators - addition(+), subtaction(-), multiplication(*), division(/),floor division(//), modulus(%), exponentiation(**)\n",
        "a=10\n",
        "b=2\n",
        "print(a+b)\n",
        "print(a-b)\n",
        "print(a**2)"
      ],
      "metadata": {
        "id": "7xeFGV8qMhqJ"
      },
      "execution_count": null,
      "outputs": []
    },
    {
      "cell_type": "code",
      "source": [
        "#2. Relational Operatots - Equal to\t(==),\tNot equal to\t(!=), Greater than (>),\tLess than\t(<),\tGreater than or equal to(>=), Less than or equal  (<=)\n",
        "a=10\n",
        "b=2\n",
        "print(a==b)\n",
        "print(a>=b)"
      ],
      "metadata": {
        "id": "1oMSRrSCMm1s"
      },
      "execution_count": null,
      "outputs": []
    },
    {
      "cell_type": "code",
      "source": [
        "#3. Logical Operators - and, or , not\n",
        "print(5>3 and 6==9) # Returns true if both true else false\n",
        "print(5>3 or 6==9)  # Returns False if both False else true\n",
        "print(not(5>3)) #Returns negative of the statement"
      ],
      "metadata": {
        "id": "526tA2QKN3nu"
      },
      "execution_count": null,
      "outputs": []
    },
    {
      "cell_type": "code",
      "source": [
        "#4. Assignment operators -  =, +=, -=, *=, /=, //=,**=\n",
        "x=5\n",
        "x+=6\n",
        "print(x)"
      ],
      "metadata": {
        "id": "uictPj5yPqWa"
      },
      "execution_count": null,
      "outputs": []
    },
    {
      "cell_type": "code",
      "source": [
        "#5. Bitwise Operators - AND (&), OR(|), XOR(^), Left shift(<<), Right shift(>>)\n",
        "a, b = 5, 3\n",
        "print(a & b)  # 1\n",
        "print(a | b)  # 7\n"
      ],
      "metadata": {
        "id": "9C_JrVbzQg1W"
      },
      "execution_count": null,
      "outputs": []
    },
    {
      "cell_type": "code",
      "source": [
        "#6. Membership Operators - in (True if value is in sequence), not in (True if value is not in sequence)\n",
        "s=\"Apple\"\n",
        "print(\"App\" in s) #True\n",
        "print(\"a\" in s) #False"
      ],
      "metadata": {
        "colab": {
          "base_uri": "https://localhost:8080/"
        },
        "id": "JT0wfldrRW8X",
        "outputId": "cca55993-e168-4063-9add-c3ab65b2f4f0"
      },
      "execution_count": null,
      "outputs": [
        {
          "output_type": "stream",
          "name": "stdout",
          "text": [
            "True\n",
            "False\n"
          ]
        }
      ]
    },
    {
      "cell_type": "code",
      "source": [
        "#7. Identity Operators - is\t(Returns True if both refer to same object), is not\t(Returns True if they don’t refer to same object)\n",
        "\n",
        "x = [1, 2, 3]\n",
        "y = x\n",
        "z = [1, 2, 3]\n",
        "\n",
        "print(x is y)     # True (same object)\n",
        "print(x is z)     # False (different objects, same content)\n",
        "print(x == z)     # True (content is equal)\n"
      ],
      "metadata": {
        "id": "jbcNqLPiSmM2"
      },
      "execution_count": null,
      "outputs": []
    },
    {
      "cell_type": "markdown",
      "source": [
        "5. Explain the concept of type casting in Python with examples.\n",
        "- In Python Type casting means converting one data type into another.\n",
        " Examples are given below"
      ],
      "metadata": {
        "id": "MglHZyqtwIvK"
      }
    },
    {
      "cell_type": "code",
      "source": [
        "# Converting float to int\n",
        "a=5.2\n",
        "b=int(a)\n",
        "print(type(a))\n",
        "print(type(b))\n",
        "\n",
        "# Convetring int to string\n",
        "x=100\n",
        "y=str(x)\n",
        "print(type(x))\n",
        "print(type(y))\n",
        "\n",
        "\n",
        "#converting str to int\n",
        "c=\"10\"\n",
        "d= int(c)\n",
        "print(type(c))\n",
        "print(type(d))\n",
        "\n",
        "#If the conversion is not possible, Python raises an error.\n",
        "e=\"subhash\"\n",
        "f=int(e) #invalid literal for int()"
      ],
      "metadata": {
        "colab": {
          "base_uri": "https://localhost:8080/",
          "height": 280
        },
        "id": "nCTdsTKnxVJ1",
        "outputId": "f9cf90e6-4581-4f04-af82-36a7b8f47845"
      },
      "execution_count": 2,
      "outputs": [
        {
          "output_type": "stream",
          "name": "stdout",
          "text": [
            "<class 'float'>\n",
            "<class 'int'>\n",
            "<class 'int'>\n",
            "<class 'str'>\n",
            "<class 'str'>\n",
            "<class 'int'>\n"
          ]
        },
        {
          "output_type": "error",
          "ename": "ValueError",
          "evalue": "invalid literal for int() with base 10: 'subhash'",
          "traceback": [
            "\u001b[0;31m---------------------------------------------------------------------------\u001b[0m",
            "\u001b[0;31mValueError\u001b[0m                                Traceback (most recent call last)",
            "\u001b[0;32m/tmp/ipython-input-3532804040.py\u001b[0m in \u001b[0;36m<cell line: 0>\u001b[0;34m()\u001b[0m\n\u001b[1;32m     20\u001b[0m \u001b[0;31m#If the conversion is not possible, Python raises an error.\u001b[0m\u001b[0;34m\u001b[0m\u001b[0;34m\u001b[0m\u001b[0m\n\u001b[1;32m     21\u001b[0m \u001b[0me\u001b[0m\u001b[0;34m=\u001b[0m\u001b[0;34m\"subhash\"\u001b[0m\u001b[0;34m\u001b[0m\u001b[0;34m\u001b[0m\u001b[0m\n\u001b[0;32m---> 22\u001b[0;31m \u001b[0mf\u001b[0m\u001b[0;34m=\u001b[0m\u001b[0mint\u001b[0m\u001b[0;34m(\u001b[0m\u001b[0me\u001b[0m\u001b[0;34m)\u001b[0m\u001b[0;34m\u001b[0m\u001b[0;34m\u001b[0m\u001b[0m\n\u001b[0m",
            "\u001b[0;31mValueError\u001b[0m: invalid literal for int() with base 10: 'subhash'"
          ]
        }
      ]
    },
    {
      "cell_type": "markdown",
      "source": [
        "6. How do conditional statements work in Python? Illustrate with examples.\n",
        "- Conditional statement allow program to make decision according to given condition and execute different code depending on statement is True or False. Examples are given below -"
      ],
      "metadata": {
        "id": "Wfki-MTryrYF"
      }
    },
    {
      "cell_type": "code",
      "source": [
        "# if statement - execute a block of code only if condition is True\n",
        "age = 54\n",
        "if age >=18:\n",
        "  print(\"You can give vote.\")\n",
        "\n",
        "# if else statement - if condition is True one code block runs , if False another code block runs\n",
        "marks = 40\n",
        "if marks > 33:\n",
        "  print(\"Pass\")\n",
        "else:\n",
        "  print(\"Fail\")\n",
        "\n",
        "# if elif else statement - Checks multiple conditions in order. The first True condition’s block is executed; the rest are skipped.\n",
        "if marks>=80:\n",
        "  print(\"Grade A\")\n",
        "elif marks >=60:\n",
        "  print(\"Grade B\")\n",
        "elif marks>33:\n",
        "  print(\"Grade C\")\n",
        "else :\n",
        "  print(\"Fail\")"
      ],
      "metadata": {
        "colab": {
          "base_uri": "https://localhost:8080/"
        },
        "id": "rDarU9kw0DWK",
        "outputId": "8d68aa95-79d9-4bc7-de66-137ca235b08b"
      },
      "execution_count": 3,
      "outputs": [
        {
          "output_type": "stream",
          "name": "stdout",
          "text": [
            "You can give vote.\n",
            "Pass\n",
            "Grade C\n"
          ]
        }
      ]
    },
    {
      "cell_type": "markdown",
      "source": [
        "7. Describe the different types of loops in Python and their use cases with examples.\n",
        "- Python has mainly two types of loops - 1.for loop, 2. while loop"
      ],
      "metadata": {
        "id": "pqDfxkcj2O2O"
      }
    },
    {
      "cell_type": "code",
      "source": [
        "#1. for loop - Used when you want to iterate over a sequence\n",
        "fruits = ['apple', 'banana', 'grapes', 'papaya', 'guava']\n",
        "for fruit in fruits:\n",
        "  print(fruit)\n",
        "\n",
        "# for loop using range\n",
        "for i in range(1,6,2):\n",
        "  print(i)\n",
        "\n",
        "#2.while loop - Repeats a block of code as long as the condition is True.\n",
        "count = 1\n",
        "while count <= 5:\n",
        "    print(count)\n",
        "    count += 1\n",
        "\n"
      ],
      "metadata": {
        "id": "DHUPLs7w3P2l"
      },
      "execution_count": null,
      "outputs": []
    }
  ]
}